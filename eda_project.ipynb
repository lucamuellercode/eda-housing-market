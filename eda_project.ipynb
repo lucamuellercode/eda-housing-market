{
 "cells": [
  {
   "cell_type": "code",
   "execution_count": 4,
   "id": "7e2e41d4",
   "metadata": {},
   "outputs": [],
   "source": [
    "import warnings\n",
    "\n",
    "warnings.filterwarnings(\"ignore\")\n",
    "\n",
    "import pandas as pd\n",
    "import numpy as np\n",
    "import matplotlib.pyplot as plt\n",
    "import seaborn as sns\n",
    "\n",
    "df = pd.read_csv('data/eda.csv')"
   ]
  },
  {
   "cell_type": "markdown",
   "id": "3300cd20",
   "metadata": {},
   "source": [
    "# Client Profile: Larry Sanders\n",
    "\n",
    " **Larry Sanders** is a **Buyer**.  \n",
    "\n",
    "He is looking for a very specific combination of features:\n",
    "\n",
    "- **Waterfront** property  \n",
    "- **Limited budget** (affordable compared to typical waterfront homes)  \n",
    "- **Nice & isolated** neighborhood  \n",
    "- **Central location** (not too far from the city)  \n",
    "- **Without kids** (he has children himself, but prefers neighborhoods with fewer children due to health concerns)  \n",
    "\n",
    "---\n",
    "\n",
    "### In other words, Larry is searching for the classic *Eierlegende Wollmilchsau*:  \n",
    "\n",
    "- A **waterfront house** that is not too expensive  \n",
    "- In a **nice neighborhood**, ideally with renovated homes in “better” quarters  \n",
    "- **Central but isolated** (can be approximated by zipcode and neighborhood features like lot sizes)  \n",
    "- A **bigger house** (sufficient space for his kids)  \n",
    "- Surrounded by **smaller neighboring homes** (fewer large family houses → fewer kids nearby)  \n",
    "\n",
    "\n",
    "---\n",
    "\n",
    "\n",
    "### Mapping Larry's Requirements to Dataset Features\n",
    "\n",
    "- **Waterfront** → `waterfront`  \n",
    "- **Budget** → `price`  \n",
    "- **Central** → `zipcode`, `latitude`, `longitude`  \n",
    "- **Isolated** → `sqft_lot`, `sqft_lot15`  \n",
    "- **Without kids** → proxy via smaller `sqft_living15` + fewer `bedrooms` in surrounding homes  \n",
    "- **Nice neighborhood** → proxy via `yr_renovated`, `condition_rating`, `grade`  and in sussounding homes\n"
   ]
  },
  {
   "cell_type": "markdown",
   "id": "09e710ae",
   "metadata": {},
   "source": [
    "# Hypothesizes\n",
    "\n",
    "**1 – Waterfront premium**\n",
    "\n",
    "- **H₀:** Waterfront homes have the same average price as non-waterfront homes.  \n",
    "- **H₁:** Waterfront homes are more expensive than non-waterfront homes.  \n",
    "\n",
    "**2 – Renovation value**\n",
    "\n",
    "- **H₀:** Renovated homes do not differ in price compared to non-renovated homes of similar size.  \n",
    "- **H₁:** Renovated homes are more expensive than non-renovated homes of similar size.  \n",
    "\n",
    "**3 – Kids proxy (family-oriented neighborhoods)**\n",
    "\n",
    "- **H₀:** House/neighborhood size is unrelated to family orientation (number of kids).  \n",
    "- **H₁:** Larger homes (more bedrooms, higher `sqft_living15`) are proxies for more family-oriented neighborhoods (more kids), while smaller homes in areas with large `sqft_lot15` suggest more isolated, less kid-heavy neighborhoods.  \n"
   ]
  },
  {
   "cell_type": "markdown",
   "id": "9f624ae2",
   "metadata": {},
   "source": [
    "# Data Exploration and Cleaning\n",
    "\n",
    "## First Exploration steps\n",
    "\n",
    "### Columns"
   ]
  },
  {
   "cell_type": "code",
   "execution_count": 5,
   "id": "ce648d6b",
   "metadata": {},
   "outputs": [
    {
     "data": {
      "text/plain": [
       "Index(['house_id', 'sale_id', 'bedrooms', 'bathrooms', 'sqft_living',\n",
       "       'sqft_lot', 'floors', 'waterfront', 'view_rating', 'condition_rating',\n",
       "       'grade', 'sqft_above', 'sqft_basement', 'yr_built', 'yr_renovated',\n",
       "       'zipcode', 'latitude', 'longitude', 'sqft_living15', 'sqft_lot15',\n",
       "       'sale_date', 'price'],\n",
       "      dtype='object')"
      ]
     },
     "execution_count": 5,
     "metadata": {},
     "output_type": "execute_result"
    }
   ],
   "source": [
    "df.columns"
   ]
  },
  {
   "cell_type": "markdown",
   "id": "e3a23dd3",
   "metadata": {},
   "source": [
    "### Datatypes"
   ]
  },
  {
   "cell_type": "code",
   "execution_count": 6,
   "id": "19cb5716",
   "metadata": {},
   "outputs": [
    {
     "data": {
      "text/plain": [
       "house_id              int64\n",
       "sale_id               int64\n",
       "bedrooms            float64\n",
       "bathrooms           float64\n",
       "sqft_living         float64\n",
       "sqft_lot            float64\n",
       "floors              float64\n",
       "waterfront          float64\n",
       "view_rating         float64\n",
       "condition_rating      int64\n",
       "grade                 int64\n",
       "sqft_above          float64\n",
       "sqft_basement       float64\n",
       "yr_built              int64\n",
       "yr_renovated        float64\n",
       "zipcode               int64\n",
       "latitude            float64\n",
       "longitude           float64\n",
       "sqft_living15       float64\n",
       "sqft_lot15          float64\n",
       "sale_date            object\n",
       "price               float64\n",
       "dtype: object"
      ]
     },
     "execution_count": 6,
     "metadata": {},
     "output_type": "execute_result"
    }
   ],
   "source": [
    "df.dtypes"
   ]
  },
  {
   "cell_type": "markdown",
   "id": "485095bf",
   "metadata": {},
   "source": [
    "### Overview "
   ]
  },
  {
   "cell_type": "code",
   "execution_count": 7,
   "id": "355bfbbb",
   "metadata": {},
   "outputs": [
    {
     "data": {
      "text/html": [
       "<div>\n",
       "<style scoped>\n",
       "    .dataframe tbody tr th:only-of-type {\n",
       "        vertical-align: middle;\n",
       "    }\n",
       "\n",
       "    .dataframe tbody tr th {\n",
       "        vertical-align: top;\n",
       "    }\n",
       "\n",
       "    .dataframe thead th {\n",
       "        text-align: right;\n",
       "    }\n",
       "</style>\n",
       "<table border=\"1\" class=\"dataframe\">\n",
       "  <thead>\n",
       "    <tr style=\"text-align: right;\">\n",
       "      <th></th>\n",
       "      <th>house_id</th>\n",
       "      <th>sale_id</th>\n",
       "      <th>bedrooms</th>\n",
       "      <th>bathrooms</th>\n",
       "      <th>sqft_living</th>\n",
       "      <th>sqft_lot</th>\n",
       "      <th>floors</th>\n",
       "      <th>waterfront</th>\n",
       "      <th>view_rating</th>\n",
       "      <th>condition_rating</th>\n",
       "      <th>...</th>\n",
       "      <th>sqft_above</th>\n",
       "      <th>sqft_basement</th>\n",
       "      <th>yr_built</th>\n",
       "      <th>yr_renovated</th>\n",
       "      <th>zipcode</th>\n",
       "      <th>latitude</th>\n",
       "      <th>longitude</th>\n",
       "      <th>sqft_living15</th>\n",
       "      <th>sqft_lot15</th>\n",
       "      <th>price</th>\n",
       "    </tr>\n",
       "  </thead>\n",
       "  <tbody>\n",
       "    <tr>\n",
       "      <th>count</th>\n",
       "      <td>2.159700e+04</td>\n",
       "      <td>21597.000000</td>\n",
       "      <td>21597.000000</td>\n",
       "      <td>21597.000000</td>\n",
       "      <td>21597.000000</td>\n",
       "      <td>2.159700e+04</td>\n",
       "      <td>21597.000000</td>\n",
       "      <td>19206.000000</td>\n",
       "      <td>21534.000000</td>\n",
       "      <td>21597.000000</td>\n",
       "      <td>...</td>\n",
       "      <td>21597.000000</td>\n",
       "      <td>21145.000000</td>\n",
       "      <td>21597.000000</td>\n",
       "      <td>17749.000000</td>\n",
       "      <td>21597.000000</td>\n",
       "      <td>21597.000000</td>\n",
       "      <td>21597.000000</td>\n",
       "      <td>21597.000000</td>\n",
       "      <td>21597.000000</td>\n",
       "      <td>2.159700e+04</td>\n",
       "    </tr>\n",
       "    <tr>\n",
       "      <th>mean</th>\n",
       "      <td>4.580474e+09</td>\n",
       "      <td>10799.000000</td>\n",
       "      <td>3.373200</td>\n",
       "      <td>2.115826</td>\n",
       "      <td>2080.321850</td>\n",
       "      <td>1.509941e+04</td>\n",
       "      <td>1.494096</td>\n",
       "      <td>0.007602</td>\n",
       "      <td>0.233863</td>\n",
       "      <td>3.409825</td>\n",
       "      <td>...</td>\n",
       "      <td>1788.596842</td>\n",
       "      <td>291.857224</td>\n",
       "      <td>1970.999676</td>\n",
       "      <td>836.650516</td>\n",
       "      <td>98077.951845</td>\n",
       "      <td>47.560093</td>\n",
       "      <td>-122.213983</td>\n",
       "      <td>1986.620318</td>\n",
       "      <td>12758.283512</td>\n",
       "      <td>5.402966e+05</td>\n",
       "    </tr>\n",
       "    <tr>\n",
       "      <th>std</th>\n",
       "      <td>2.876736e+09</td>\n",
       "      <td>6234.661218</td>\n",
       "      <td>0.926299</td>\n",
       "      <td>0.768984</td>\n",
       "      <td>918.106125</td>\n",
       "      <td>4.141264e+04</td>\n",
       "      <td>0.539683</td>\n",
       "      <td>0.086858</td>\n",
       "      <td>0.765686</td>\n",
       "      <td>0.650546</td>\n",
       "      <td>...</td>\n",
       "      <td>827.759761</td>\n",
       "      <td>442.490863</td>\n",
       "      <td>29.375234</td>\n",
       "      <td>4000.110554</td>\n",
       "      <td>53.513072</td>\n",
       "      <td>0.138552</td>\n",
       "      <td>0.140724</td>\n",
       "      <td>685.230472</td>\n",
       "      <td>27274.441950</td>\n",
       "      <td>3.673681e+05</td>\n",
       "    </tr>\n",
       "    <tr>\n",
       "      <th>min</th>\n",
       "      <td>1.000102e+06</td>\n",
       "      <td>1.000000</td>\n",
       "      <td>1.000000</td>\n",
       "      <td>0.500000</td>\n",
       "      <td>370.000000</td>\n",
       "      <td>5.200000e+02</td>\n",
       "      <td>1.000000</td>\n",
       "      <td>0.000000</td>\n",
       "      <td>0.000000</td>\n",
       "      <td>1.000000</td>\n",
       "      <td>...</td>\n",
       "      <td>370.000000</td>\n",
       "      <td>0.000000</td>\n",
       "      <td>1900.000000</td>\n",
       "      <td>0.000000</td>\n",
       "      <td>98001.000000</td>\n",
       "      <td>47.155900</td>\n",
       "      <td>-122.519000</td>\n",
       "      <td>399.000000</td>\n",
       "      <td>651.000000</td>\n",
       "      <td>7.800000e+04</td>\n",
       "    </tr>\n",
       "    <tr>\n",
       "      <th>25%</th>\n",
       "      <td>2.123049e+09</td>\n",
       "      <td>5400.000000</td>\n",
       "      <td>3.000000</td>\n",
       "      <td>1.750000</td>\n",
       "      <td>1430.000000</td>\n",
       "      <td>5.040000e+03</td>\n",
       "      <td>1.000000</td>\n",
       "      <td>0.000000</td>\n",
       "      <td>0.000000</td>\n",
       "      <td>3.000000</td>\n",
       "      <td>...</td>\n",
       "      <td>1190.000000</td>\n",
       "      <td>0.000000</td>\n",
       "      <td>1951.000000</td>\n",
       "      <td>0.000000</td>\n",
       "      <td>98033.000000</td>\n",
       "      <td>47.471100</td>\n",
       "      <td>-122.328000</td>\n",
       "      <td>1490.000000</td>\n",
       "      <td>5100.000000</td>\n",
       "      <td>3.220000e+05</td>\n",
       "    </tr>\n",
       "    <tr>\n",
       "      <th>50%</th>\n",
       "      <td>3.904930e+09</td>\n",
       "      <td>10799.000000</td>\n",
       "      <td>3.000000</td>\n",
       "      <td>2.250000</td>\n",
       "      <td>1910.000000</td>\n",
       "      <td>7.618000e+03</td>\n",
       "      <td>1.500000</td>\n",
       "      <td>0.000000</td>\n",
       "      <td>0.000000</td>\n",
       "      <td>3.000000</td>\n",
       "      <td>...</td>\n",
       "      <td>1560.000000</td>\n",
       "      <td>0.000000</td>\n",
       "      <td>1975.000000</td>\n",
       "      <td>0.000000</td>\n",
       "      <td>98065.000000</td>\n",
       "      <td>47.571800</td>\n",
       "      <td>-122.231000</td>\n",
       "      <td>1840.000000</td>\n",
       "      <td>7620.000000</td>\n",
       "      <td>4.500000e+05</td>\n",
       "    </tr>\n",
       "    <tr>\n",
       "      <th>75%</th>\n",
       "      <td>7.308900e+09</td>\n",
       "      <td>16198.000000</td>\n",
       "      <td>4.000000</td>\n",
       "      <td>2.500000</td>\n",
       "      <td>2550.000000</td>\n",
       "      <td>1.068500e+04</td>\n",
       "      <td>2.000000</td>\n",
       "      <td>0.000000</td>\n",
       "      <td>0.000000</td>\n",
       "      <td>4.000000</td>\n",
       "      <td>...</td>\n",
       "      <td>2210.000000</td>\n",
       "      <td>560.000000</td>\n",
       "      <td>1997.000000</td>\n",
       "      <td>0.000000</td>\n",
       "      <td>98118.000000</td>\n",
       "      <td>47.678000</td>\n",
       "      <td>-122.125000</td>\n",
       "      <td>2360.000000</td>\n",
       "      <td>10083.000000</td>\n",
       "      <td>6.450000e+05</td>\n",
       "    </tr>\n",
       "    <tr>\n",
       "      <th>max</th>\n",
       "      <td>9.900000e+09</td>\n",
       "      <td>21597.000000</td>\n",
       "      <td>33.000000</td>\n",
       "      <td>8.000000</td>\n",
       "      <td>13540.000000</td>\n",
       "      <td>1.651359e+06</td>\n",
       "      <td>3.500000</td>\n",
       "      <td>1.000000</td>\n",
       "      <td>4.000000</td>\n",
       "      <td>5.000000</td>\n",
       "      <td>...</td>\n",
       "      <td>9410.000000</td>\n",
       "      <td>4820.000000</td>\n",
       "      <td>2015.000000</td>\n",
       "      <td>20150.000000</td>\n",
       "      <td>98199.000000</td>\n",
       "      <td>47.777600</td>\n",
       "      <td>-121.315000</td>\n",
       "      <td>6210.000000</td>\n",
       "      <td>871200.000000</td>\n",
       "      <td>7.700000e+06</td>\n",
       "    </tr>\n",
       "  </tbody>\n",
       "</table>\n",
       "<p>8 rows × 21 columns</p>\n",
       "</div>"
      ],
      "text/plain": [
       "           house_id       sale_id      bedrooms     bathrooms   sqft_living  \\\n",
       "count  2.159700e+04  21597.000000  21597.000000  21597.000000  21597.000000   \n",
       "mean   4.580474e+09  10799.000000      3.373200      2.115826   2080.321850   \n",
       "std    2.876736e+09   6234.661218      0.926299      0.768984    918.106125   \n",
       "min    1.000102e+06      1.000000      1.000000      0.500000    370.000000   \n",
       "25%    2.123049e+09   5400.000000      3.000000      1.750000   1430.000000   \n",
       "50%    3.904930e+09  10799.000000      3.000000      2.250000   1910.000000   \n",
       "75%    7.308900e+09  16198.000000      4.000000      2.500000   2550.000000   \n",
       "max    9.900000e+09  21597.000000     33.000000      8.000000  13540.000000   \n",
       "\n",
       "           sqft_lot        floors    waterfront   view_rating  \\\n",
       "count  2.159700e+04  21597.000000  19206.000000  21534.000000   \n",
       "mean   1.509941e+04      1.494096      0.007602      0.233863   \n",
       "std    4.141264e+04      0.539683      0.086858      0.765686   \n",
       "min    5.200000e+02      1.000000      0.000000      0.000000   \n",
       "25%    5.040000e+03      1.000000      0.000000      0.000000   \n",
       "50%    7.618000e+03      1.500000      0.000000      0.000000   \n",
       "75%    1.068500e+04      2.000000      0.000000      0.000000   \n",
       "max    1.651359e+06      3.500000      1.000000      4.000000   \n",
       "\n",
       "       condition_rating  ...    sqft_above  sqft_basement      yr_built  \\\n",
       "count      21597.000000  ...  21597.000000   21145.000000  21597.000000   \n",
       "mean           3.409825  ...   1788.596842     291.857224   1970.999676   \n",
       "std            0.650546  ...    827.759761     442.490863     29.375234   \n",
       "min            1.000000  ...    370.000000       0.000000   1900.000000   \n",
       "25%            3.000000  ...   1190.000000       0.000000   1951.000000   \n",
       "50%            3.000000  ...   1560.000000       0.000000   1975.000000   \n",
       "75%            4.000000  ...   2210.000000     560.000000   1997.000000   \n",
       "max            5.000000  ...   9410.000000    4820.000000   2015.000000   \n",
       "\n",
       "       yr_renovated       zipcode      latitude     longitude  sqft_living15  \\\n",
       "count  17749.000000  21597.000000  21597.000000  21597.000000   21597.000000   \n",
       "mean     836.650516  98077.951845     47.560093   -122.213983    1986.620318   \n",
       "std     4000.110554     53.513072      0.138552      0.140724     685.230472   \n",
       "min        0.000000  98001.000000     47.155900   -122.519000     399.000000   \n",
       "25%        0.000000  98033.000000     47.471100   -122.328000    1490.000000   \n",
       "50%        0.000000  98065.000000     47.571800   -122.231000    1840.000000   \n",
       "75%        0.000000  98118.000000     47.678000   -122.125000    2360.000000   \n",
       "max    20150.000000  98199.000000     47.777600   -121.315000    6210.000000   \n",
       "\n",
       "          sqft_lot15         price  \n",
       "count   21597.000000  2.159700e+04  \n",
       "mean    12758.283512  5.402966e+05  \n",
       "std     27274.441950  3.673681e+05  \n",
       "min       651.000000  7.800000e+04  \n",
       "25%      5100.000000  3.220000e+05  \n",
       "50%      7620.000000  4.500000e+05  \n",
       "75%     10083.000000  6.450000e+05  \n",
       "max    871200.000000  7.700000e+06  \n",
       "\n",
       "[8 rows x 21 columns]"
      ]
     },
     "execution_count": 7,
     "metadata": {},
     "output_type": "execute_result"
    }
   ],
   "source": [
    "df.describe()"
   ]
  },
  {
   "cell_type": "markdown",
   "id": "d90133aa",
   "metadata": {},
   "source": [
    "### Duplicates"
   ]
  },
  {
   "cell_type": "code",
   "execution_count": 8,
   "id": "b2bfa756",
   "metadata": {},
   "outputs": [
    {
     "data": {
      "text/plain": [
       "np.int64(0)"
      ]
     },
     "execution_count": 8,
     "metadata": {},
     "output_type": "execute_result"
    }
   ],
   "source": [
    "df.duplicated().sum()\n"
   ]
  },
  {
   "cell_type": "markdown",
   "id": "4b6937e7",
   "metadata": {},
   "source": [
    "### NaN Values"
   ]
  },
  {
   "cell_type": "code",
   "execution_count": 9,
   "id": "fb1e99d5",
   "metadata": {},
   "outputs": [
    {
     "data": {
      "text/plain": [
       "house_id               0\n",
       "sale_id                0\n",
       "bedrooms               0\n",
       "bathrooms              0\n",
       "sqft_living            0\n",
       "sqft_lot               0\n",
       "floors                 0\n",
       "waterfront          2391\n",
       "view_rating           63\n",
       "condition_rating       0\n",
       "grade                  0\n",
       "sqft_above             0\n",
       "sqft_basement        452\n",
       "yr_built               0\n",
       "yr_renovated        3848\n",
       "zipcode                0\n",
       "latitude               0\n",
       "longitude              0\n",
       "sqft_living15          0\n",
       "sqft_lot15             0\n",
       "sale_date              0\n",
       "price                  0\n",
       "dtype: int64"
      ]
     },
     "execution_count": 9,
     "metadata": {},
     "output_type": "execute_result"
    }
   ],
   "source": [
    "df.isna().sum()"
   ]
  },
  {
   "cell_type": "markdown",
   "id": "260366fc",
   "metadata": {},
   "source": [
    "##### Handling NaN Values\n",
    "\n",
    "- **Waterfront**  \n",
    "  Probably a measuring or capturing error.  \n",
    "  → We assume that no value means the house is **not at the waterfront**.  \n",
    "\n",
    "- **View Rating**  \n",
    "  Likely a capturing error, since only a few entries are missing.  \n",
    "  → We could **safely drop** these rows.  \n",
    "  (Optional: construct a proxy view rating based on proximity and number of floors).  \n",
    "\n",
    "- **Sqft Basement**  \n",
    "  Probably a capturing error.  \n",
    "  → Either means:  \n",
    "  - The house has **no basement**.\n",
    "  - The basement was forgotten, in this case the size of the basement can be infered by : **sqft_basement = sqft_living - sqft_above**  \n",
    "\n",
    "- **Year Renovated**  \n",
    "  If a house has no value here, it probably has **never been renovated**.  \n",
    "  → Keep the year values as-is, but add a new column:  \n",
    "  - `is_renovated = 1` if `yr_renovated` exists  \n",
    "  - `is_renovated = 0` otherwise  \n",
    "  → Sanity check: compare `yr_built` with `yr_renovated` (renovation should always be later).  \n"
   ]
  },
  {
   "cell_type": "markdown",
   "id": "1554e13f",
   "metadata": {},
   "source": [
    "## Data Cleaning"
   ]
  },
  {
   "cell_type": "markdown",
   "id": "66e9749e",
   "metadata": {},
   "source": [
    "### SQFT Basement\n",
    "\n",
    "1.) Check for faulty values in sqft_living or sqft_above to avoid negative basement sizes"
   ]
  },
  {
   "cell_type": "code",
   "execution_count": 10,
   "id": "18a09b9e",
   "metadata": {},
   "outputs": [
    {
     "data": {
      "text/plain": [
       "np.int64(0)"
      ]
     },
     "execution_count": 10,
     "metadata": {},
     "output_type": "execute_result"
    }
   ],
   "source": [
    "(df['sqft_living'] < df['sqft_above'] ).sum()"
   ]
  },
  {
   "cell_type": "markdown",
   "id": "e4f3ea4f",
   "metadata": {},
   "source": [
    "2.) Create a mask only if the basement value is NaN"
   ]
  },
  {
   "cell_type": "code",
   "execution_count": 11,
   "id": "1ff73e94",
   "metadata": {},
   "outputs": [
    {
     "data": {
      "text/plain": [
       "0        False\n",
       "1        False\n",
       "2        False\n",
       "3        False\n",
       "4        False\n",
       "         ...  \n",
       "21592    False\n",
       "21593    False\n",
       "21594    False\n",
       "21595    False\n",
       "21596    False\n",
       "Name: sqft_basement, Length: 21597, dtype: bool"
      ]
     },
     "execution_count": 11,
     "metadata": {},
     "output_type": "execute_result"
    }
   ],
   "source": [
    "mask = df['sqft_basement'].isna()\n",
    "\n",
    "mask"
   ]
  },
  {
   "cell_type": "markdown",
   "id": "0a34fd78",
   "metadata": {},
   "source": [
    "3.) Set all NaN basement values to : **sqft_basement = sqft_living - sqft_above** "
   ]
  },
  {
   "cell_type": "code",
   "execution_count": 12,
   "id": "63b6d381",
   "metadata": {},
   "outputs": [],
   "source": [
    "df.loc[mask,'sqft_basement'] = (df['sqft_living'] - df['sqft_above'])[mask]"
   ]
  },
  {
   "cell_type": "code",
   "execution_count": 13,
   "id": "15bf528f",
   "metadata": {},
   "outputs": [
    {
     "data": {
      "text/plain": [
       "house_id               0\n",
       "sale_id                0\n",
       "bedrooms               0\n",
       "bathrooms              0\n",
       "sqft_living            0\n",
       "sqft_lot               0\n",
       "floors                 0\n",
       "waterfront          2391\n",
       "view_rating           63\n",
       "condition_rating       0\n",
       "grade                  0\n",
       "sqft_above             0\n",
       "sqft_basement          0\n",
       "yr_built               0\n",
       "yr_renovated        3848\n",
       "zipcode                0\n",
       "latitude               0\n",
       "longitude              0\n",
       "sqft_living15          0\n",
       "sqft_lot15             0\n",
       "sale_date              0\n",
       "price                  0\n",
       "dtype: int64"
      ]
     },
     "execution_count": 13,
     "metadata": {},
     "output_type": "execute_result"
    }
   ],
   "source": [
    "df.isna().sum()"
   ]
  },
  {
   "cell_type": "markdown",
   "id": "3314a82b",
   "metadata": {},
   "source": [
    "#### Waterfront\n",
    "\n",
    "\n",
    "\n",
    "The `waterfront` feature has a large number of missing values. One option would be to simply assume that missing values mean not waterfront, but before making such an imputation, we explore the data further.\n",
    "\n",
    "**Assumption**: Houses located at the `waterfront` are expected to have a higher `view_rating` compared to those that are not at the waterfront.\n",
    "\n",
    "**Approach**: Check correlations.\n",
    "\n"
   ]
  },
  {
   "cell_type": "code",
   "execution_count": 79,
   "id": "c3c56f5c",
   "metadata": {},
   "outputs": [
    {
     "data": {
      "image/png": "[encoded data removed]",
      "text/plain": [
       "<Figure size 1000x600 with 1 Axes>"
      ]
     },
     "metadata": {},
     "output_type": "display_data"
    },
    {
     "data": {
      "text/html": [
       "<div>\n",
       "<style scoped>\n",
       "    .dataframe tbody tr th:only-of-type {\n",
       "        vertical-align: middle;\n",
       "    }\n",
       "\n",
       "    .dataframe tbody tr th {\n",
       "        vertical-align: top;\n",
       "    }\n",
       "\n",
       "    .dataframe thead th {\n",
       "        text-align: right;\n",
       "    }\n",
       "</style>\n",
       "<table border=\"1\" class=\"dataframe\">\n",
       "  <thead>\n",
       "    <tr style=\"text-align: right;\">\n",
       "      <th></th>\n",
       "      <th>Feature</th>\n",
       "      <th>Correlation with Waterfront</th>\n",
       "    </tr>\n",
       "  </thead>\n",
       "  <tbody>\n",
       "    <tr>\n",
       "      <th>0</th>\n",
       "      <td>view_rating</td>\n",
       "      <td>0.407156</td>\n",
       "    </tr>\n",
       "    <tr>\n",
       "      <th>1</th>\n",
       "      <td>price</td>\n",
       "      <td>0.276387</td>\n",
       "    </tr>\n",
       "    <tr>\n",
       "      <th>2</th>\n",
       "      <td>sqft_living</td>\n",
       "      <td>0.110233</td>\n",
       "    </tr>\n",
       "    <tr>\n",
       "      <th>3</th>\n",
       "      <td>sqft_living15</td>\n",
       "      <td>0.088854</td>\n",
       "    </tr>\n",
       "    <tr>\n",
       "      <th>4</th>\n",
       "      <td>sqft_basement</td>\n",
       "      <td>0.087940</td>\n",
       "    </tr>\n",
       "    <tr>\n",
       "      <th>5</th>\n",
       "      <td>grade</td>\n",
       "      <td>0.087365</td>\n",
       "    </tr>\n",
       "    <tr>\n",
       "      <th>6</th>\n",
       "      <td>yr_renovated</td>\n",
       "      <td>0.087226</td>\n",
       "    </tr>\n",
       "    <tr>\n",
       "      <th>7</th>\n",
       "      <td>sqft_above</td>\n",
       "      <td>0.075441</td>\n",
       "    </tr>\n",
       "    <tr>\n",
       "      <th>8</th>\n",
       "      <td>bathrooms</td>\n",
       "      <td>0.067296</td>\n",
       "    </tr>\n",
       "    <tr>\n",
       "      <th>9</th>\n",
       "      <td>sqft_lot15</td>\n",
       "      <td>0.031924</td>\n",
       "    </tr>\n",
       "    <tr>\n",
       "      <th>10</th>\n",
       "      <td>zipcode</td>\n",
       "      <td>0.031102</td>\n",
       "    </tr>\n",
       "    <tr>\n",
       "      <th>11</th>\n",
       "      <td>sqft_lot</td>\n",
       "      <td>0.023096</td>\n",
       "    </tr>\n",
       "    <tr>\n",
       "      <th>12</th>\n",
       "      <td>floors</td>\n",
       "      <td>0.021871</td>\n",
       "    </tr>\n",
       "    <tr>\n",
       "      <th>13</th>\n",
       "      <td>condition_rating</td>\n",
       "      <td>0.017666</td>\n",
       "    </tr>\n",
       "    <tr>\n",
       "      <th>14</th>\n",
       "      <td>bedrooms</td>\n",
       "      <td>-0.002405</td>\n",
       "    </tr>\n",
       "    <tr>\n",
       "      <th>15</th>\n",
       "      <td>house_id</td>\n",
       "      <td>-0.004218</td>\n",
       "    </tr>\n",
       "    <tr>\n",
       "      <th>16</th>\n",
       "      <td>sale_id</td>\n",
       "      <td>-0.008378</td>\n",
       "    </tr>\n",
       "    <tr>\n",
       "      <th>17</th>\n",
       "      <td>latitude</td>\n",
       "      <td>-0.012759</td>\n",
       "    </tr>\n",
       "    <tr>\n",
       "      <th>18</th>\n",
       "      <td>yr_built</td>\n",
       "      <td>-0.026098</td>\n",
       "    </tr>\n",
       "    <tr>\n",
       "      <th>19</th>\n",
       "      <td>longitude</td>\n",
       "      <td>-0.039888</td>\n",
       "    </tr>\n",
       "  </tbody>\n",
       "</table>\n",
       "</div>"
      ],
      "text/plain": [
       "             Feature  Correlation with Waterfront\n",
       "0        view_rating                     0.407156\n",
       "1              price                     0.276387\n",
       "2        sqft_living                     0.110233\n",
       "3      sqft_living15                     0.088854\n",
       "4      sqft_basement                     0.087940\n",
       "5              grade                     0.087365\n",
       "6       yr_renovated                     0.087226\n",
       "7         sqft_above                     0.075441\n",
       "8          bathrooms                     0.067296\n",
       "9         sqft_lot15                     0.031924\n",
       "10           zipcode                     0.031102\n",
       "11          sqft_lot                     0.023096\n",
       "12            floors                     0.021871\n",
       "13  condition_rating                     0.017666\n",
       "14          bedrooms                    -0.002405\n",
       "15          house_id                    -0.004218\n",
       "16           sale_id                    -0.008378\n",
       "17          latitude                    -0.012759\n",
       "18          yr_built                    -0.026098\n",
       "19         longitude                    -0.039888"
      ]
     },
     "execution_count": 79,
     "metadata": {},
     "output_type": "execute_result"
    }
   ],
   "source": [
    "water_fron_corr = df.corr(numeric_only=True)['waterfront'].sort_values(ascending=True)\n",
    "\n",
    "plt.figure(figsize=(10,6))\n",
    "water_fron_corr.drop('waterfront').plot(kind='barh', color='skyblue')\n",
    "plt.title(\"Correlation of Features with Waterfront\", fontsize=14)\n",
    "plt.ylabel(\"Correlation coefficient\")\n",
    "plt.show()\n",
    "\n",
    "\n",
    "\n",
    "corr_table = water_fron_corr.drop('waterfront') \\\n",
    "                            .sort_values(ascending=False) \\\n",
    "                            .reset_index()\n",
    "\n",
    "corr_table.columns = ['Feature', 'Correlation with Waterfront']\n",
    "\n",
    "\n",
    "corr_table"
   ]
  },
  {
   "cell_type": "markdown",
   "id": "35c9a027",
   "metadata": {},
   "source": [
    "##### Findings\n",
    "\n",
    "**Observation**: We can observe that our assumption is valid and the `waterfront` feature has its highest correlation with the `view_rating`.  \n",
    "\n",
    "**Hypothesis**: We can simply impute missing `waterfront` values by setting `waterfront` = 1 if  `view_rating` is high and vice versa.\n",
    "\n",
    "\n",
    "For a better grip of the spatial distribution and see wheter our hypothesis is true we first plot an interactive Folium map, coloring them according to their waterfront status and view_rating:\n",
    "\n",
    "**Yellow** → Houses explicitly marked as waterfront (1).\n",
    "\n",
    "**Grey** → Houses explicitly marked as not waterfront (0).\n",
    "\n",
    "**Green** → Houses with missing waterfront but a high view_rating (≥ 3), indicating they are likely waterfront.\n",
    "\n",
    "**Blue** → Houses with missing waterfront and a low view_rating (< 3), suggesting not waterfront.\n",
    "\n",
    "**Red** → Houses with both waterfront and view_rating missing.\n",
    "\n",
    "This visualization allows us to see whether the missing values follow the same spatial pattern as known waterfront properties.\n"
   ]
  },
  {
   "cell_type": "code",
   "execution_count": null,
   "id": "4c4a6ff2",
   "metadata": {},
   "outputs": [],
   "source": [
    "import folium\n",
    "import pandas as pd\n",
    "\n",
    "df_water = df.copy()\n",
    "\n",
    "# Center map roughly on King County\n",
    "m = folium.Map(location=[47.55, -122.2], zoom_start=10, tiles=\"OpenStreetMap\")\n",
    "\n",
    "for _, row in df_water.iterrows():\n",
    "    # Case 1: actual waterfront houses\n",
    "    if row[\"waterfront\"] == 1:\n",
    "        color = \"yellow\"\n",
    "    \n",
    "    # Case 2: waterfront is missing\n",
    "    elif pd.isna(row[\"waterfront\"]):\n",
    "        if pd.isna(row[\"view_rating\"]):\n",
    "            color = \"red\"      # missing view_rating\n",
    "        elif row[\"view_rating\"] >= 3.0:\n",
    "            color = \"green\"    # likely waterfront\n",
    "        else:\n",
    "            color = \"blue\"     # likely not waterfront\n",
    "    \n",
    "    # Case 3: actual non-waterfront houses\n",
    "    else:\n",
    "        color = \"grey\"\n",
    "    \n",
    "    folium.CircleMarker(\n",
    "        location=[row['latitude'], row['longitude']],\n",
    "        radius=2,\n",
    "        color=color,\n",
    "        fill=True,\n",
    "        fill_opacity=0.6,\n",
    "        popup=f\"View: {row['view_rating']}, Waterfront: {row['waterfront']}\"\n",
    "    ).add_to(m)\n",
    "\n",
    "# Add a legend (custom HTML overlay)\n",
    "legend_html = \"\"\"\n",
    "<div style=\"position: fixed; \n",
    "            bottom: 50px; left: 50px; width: 200px; height: 140px; \n",
    "            border:2px solid grey; z-index:9999; font-size:14px;\n",
    "            background-color:white; padding: 10px;\">\n",
    "<b>Legend</b><br>\n",
    "<span style=\"color:yellow;\">●</span> Waterfront<br>\n",
    "<span style=\"color:grey;\">●</span> Not waterfront<br>\n",
    "<span style=\"color:green;\">●</span> Missing WF, high view (≥3)<br>\n",
    "<span style=\"color:blue;\">●</span> Missing WF, low view (<3)<br>\n",
    "<span style=\"color:red;\">●</span> Missing both WF & view<br>\n",
    "</div>\n",
    "\"\"\"\n",
    "m.get_root().html.add_child(folium.Element(legend_html))\n",
    "\n",
    "# Save map\n",
    "m.save(\"data/maps/king_county_houses_wf_nan.html\")\n",
    "\n",
    "m\n"
   ]
  },
  {
   "cell_type": "markdown",
   "id": "cb33d8cd",
   "metadata": {},
   "source": [
    "##### Findings II\n",
    "\n",
    "**Observations:**  \n",
    "- Only houses located **directly at the sea or connected waterways** are marked as `waterfront`. Houses at **lakes or rivers** in the inland are **not** labeled as waterfront.  \n",
    "- Many houses with a **missing `waterfront` status** but located near the sea show **high `view_rating` scores**, suggesting they are likely waterfront properties.  \n",
    "- A subset of houses has **both `waterfront` and `view_rating` missing**, making it impossible to infer their status from the available data.  \n",
    "\n",
    "**Approach:**  \n",
    "Since `view_rating` is strongly correlated with `waterfront` (≈ 0.41), we use it as the primary proxy to impute missing values. The assumption is:  \n",
    "- If `view_rating` is **high (≈ 4)** → the house is likely waterfront.  \n",
    "- Otherwise → the house is not waterfront.  \n",
    "\n",
    "This heuristic is supported by the fact that **83% of actual waterfront homes** have a `view_rating` of 4, while only **0.87% of non-waterfront homes** reach this level.  \n",
    "\n",
    "**Validation:**  \n",
    "To check for exceptions, we analyzed waterfront houses with **`view_rating < 4`**, grouped by `zipcode`. The results show that in a few zipcodes, waterfront properties are rated significantly lower:  \n",
    "\n",
    "| Zipcode | Count | Min | Mean | Median | Max |\n",
    "|---------|-------|-----|------|--------|-----|\n",
    "| 98004   | 1     | 2.0 | 2.00 | 2.0    | 2.0 |\n",
    "| 98040   | 2     | 3.0 | 3.00 | 3.0    | 3.0 |\n",
    "| 98052   | 1     | 2.0 | 2.00 | 2.0    | 2.0 |\n",
    "| 98070   | 11    | 1.0 | 2.55 | 3.0    | 3.0 |\n",
    "| 98075   | 2     | 3.0 | 3.00 | 3.0    | 3.0 |\n",
    "| 98105   | 2     | 2.0 | 2.50 | 2.5    | 3.0 |\n",
    "| 98166   | 2     | 2.0 | 2.50 | 2.5    | 3.0 |\n",
    "| 98199   | 1     | 3.0 | 3.00 | 3.0    | 3.0 |\n",
    "\n",
    "This shows that some waterfront homes—especially in zipcodes **98070, 98105, and 98166**—can have median view ratings as low as **2.5–3.0**, rather than the expected 4.  \n",
    "\n",
    "**Conclusion:**  \n",
    "It is therefore **reasonable to impute missing `waterfront` values via `view_rating`**, with the caveat that this approach may slightly **overestimate** waterfront status. While most waterfront homes indeed have the maximum view rating, a small minority do not. For exploratory analysis, this trade-off is acceptable, but in a predictive model, a more nuanced rule (e.g., zipcode-specific thresholds) might be preferable.  \n",
    "\n"
   ]
  },
  {
   "cell_type": "code",
   "execution_count": 95,
   "id": "afc9efb2",
   "metadata": {},
   "outputs": [
    {
     "data": {
      "text/plain": [
       "np.int64(6)"
      ]
     },
     "execution_count": 95,
     "metadata": {},
     "output_type": "execute_result"
    }
   ],
   "source": [
    "df_imputed = df.copy()\n",
    "\n",
    "mask = df_imputed['waterfront'].isna()\n",
    "\n",
    "df_imputed.loc[mask & df_imputed['view_rating'].notna(), 'waterfront'] = (\n",
    "    (df_imputed.loc[mask & df_imputed['view_rating'].notna(), 'view_rating'] == 4).astype(int)\n",
    ")\n",
    "\n",
    "\n",
    "'''\n",
    "@ToDo:\n",
    "\n",
    "handle last missing entries in waterfron wher no viewarating and no waterfrotn status combine cleaned ds \n",
    "'''\n",
    "\n",
    "\n",
    "df_imputed['waterfront'].isna().sum()"
   ]
  },
  {
   "cell_type": "code",
   "execution_count": 63,
   "id": "b5783974",
   "metadata": {},
   "outputs": [
    {
     "name": "stdout",
     "output_type": "stream",
     "text": [
      "Waterfront houses with view=4.0: 123\n",
      "Total waterfront houses: 145\n",
      "Percentage: 84.83%\n"
     ]
    }
   ],
   "source": [
    "# count of waterfront houses by view rating\n",
    "counts = df.query(\"waterfront == 1\")['view_rating'].value_counts().sort_index()\n",
    "\n",
    "# total number of waterfront houses\n",
    "total = counts.sum()\n",
    "\n",
    "# percentage with \n",
    "view = 4.0\n",
    "view4 = counts.get(view, 0)\n",
    "perc_view4 = view4 / total * 100\n",
    "\n",
    "print(f\"Waterfront houses with view={view}:\", view4)\n",
    "print(\"Total waterfront houses:\", total)\n",
    "print(f\"Percentage: {perc_view4:.2f}%\")\n"
   ]
  },
  {
   "cell_type": "markdown",
   "id": "bc9b3392",
   "metadata": {},
   "source": [
    "### View\n",
    "\n",
    "Research any correlations between view and any other value\n"
   ]
  },
  {
   "cell_type": "code",
   "execution_count": 44,
   "id": "c0e9aadd",
   "metadata": {},
   "outputs": [
    {
     "data": {
      "text/plain": [
       "array([ 0., nan,  3.,  4.,  2.,  1.])"
      ]
     },
     "execution_count": 44,
     "metadata": {},
     "output_type": "execute_result"
    }
   ],
   "source": [
    "pd.unique(df['view_rating'])"
   ]
  },
  {
   "cell_type": "code",
   "execution_count": 16,
   "id": "3bd0b04b",
   "metadata": {},
   "outputs": [
    {
     "data": {
      "text/plain": [
       "view_rating         1.000000\n",
       "waterfront          0.407156\n",
       "price               0.395734\n",
       "sqft_living         0.282532\n",
       "sqft_living15       0.279561\n",
       "sqft_basement       0.274887\n",
       "grade               0.249727\n",
       "bathrooms           0.186451\n",
       "sqft_above          0.166299\n",
       "yr_renovated        0.100795\n",
       "zipcode             0.085277\n",
       "bedrooms            0.078523\n",
       "sqft_lot            0.075298\n",
       "sqft_lot15          0.073332\n",
       "condition_rating    0.045735\n",
       "floors              0.028436\n",
       "house_id            0.011592\n",
       "latitude            0.006141\n",
       "sale_id            -0.013607\n",
       "yr_built           -0.054564\n",
       "longitude          -0.077894\n",
       "Name: view_rating, dtype: float64"
      ]
     },
     "execution_count": 16,
     "metadata": {},
     "output_type": "execute_result"
    }
   ],
   "source": [
    "df.corr(numeric_only=True)['view_rating'].sort_values(ascending=False)\n"
   ]
  },
  {
   "cell_type": "markdown",
   "id": "7dd7bc88",
   "metadata": {},
   "source": [
    "There is a very high correlation between the waterfront and the price. So more expensive houses at the water seem to have better views.\n",
    "We fill these 'view' NaN's with the median for waterfront houses and non waterfront houses respectively based on, taking the price into account. "
   ]
  },
  {
   "cell_type": "code",
   "execution_count": 17,
   "id": "cde1ca6f",
   "metadata": {},
   "outputs": [
    {
     "data": {
      "text/plain": [
       "np.int64(2391)"
      ]
     },
     "execution_count": 17,
     "metadata": {},
     "output_type": "execute_result"
    }
   ],
   "source": [
    "df_view = df.copy()\n",
    "\n",
    "\n",
    "df_view['view_rating'] = df_view.groupby(['waterfront','zipcode'])['view_rating'].transform(lambda x : x.fillna(x.median()))\n",
    "\n",
    "\n",
    "df_view['view_rating'].isna().sum()"
   ]
  }
 ],
 "metadata": {
  "kernelspec": {
   "display_name": ".venv",
   "language": "python",
   "name": "python3"
  },
  "language_info": {
   "codemirror_mode": {
    "name": "ipython",
    "version": 3
   },
   "file_extension": ".py",
   "mimetype": "text/x-python",
   "name": "python",
   "nbconvert_exporter": "python",
   "pygments_lexer": "ipython3",
   "version": "3.11.3"
  }
 },
 "nbformat": 4,
 "nbformat_minor": 5
}
